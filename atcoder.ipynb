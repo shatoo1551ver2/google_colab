{
  "nbformat": 4,
  "nbformat_minor": 0,
  "metadata": {
    "colab": {
      "provenance": [],
      "authorship_tag": "ABX9TyOtCQzrCUGqPc0FNFtzN2Dh",
      "include_colab_link": true
    },
    "kernelspec": {
      "name": "python3",
      "display_name": "Python 3"
    },
    "language_info": {
      "name": "python"
    }
  },
  "cells": [
    {
      "cell_type": "markdown",
      "metadata": {
        "id": "view-in-github",
        "colab_type": "text"
      },
      "source": [
        "<a href=\"https://colab.research.google.com/github/shatoo1551ver2/google_colab/blob/main/atcoder.ipynb\" target=\"_parent\"><img src=\"https://colab.research.google.com/assets/colab-badge.svg\" alt=\"Open In Colab\"/></a>"
      ]
    },
    {
      "cell_type": "markdown",
      "source": [
        "AtCoder Beginner Contest 247\n",
        "A - Move Right \n",
        "https://atcoder.jp/contests/abc247/tasks/abc247_a\n",
        "横一列に 4 つのマスが並んでいます。\n",
        "\n",
        "各文字が 0 または 1 である長さ 4 の文字列 S が与えられます。\n",
        "S の i 文字目が 1 であるとき、左から i 番目のマスには 1 人の人がおり、\n",
        "S の i 文字目が 0 であるとき、左から i 番目のマスには人がいません。\n",
        "\n",
        "全ての人が一斉に、1 つ右隣のマスへ移動します。この移動により、もともと右端のマスにいた人は消えます。\n",
        "\n",
        "移動後の各マスに人がいるかどうかを、S と同様のルールで文字列として出力してください。\n",
        "\n"
      ],
      "metadata": {
        "id": "nJ20Pk9HafCa"
      }
    },
    {
      "cell_type": "code",
      "execution_count": null,
      "metadata": {
        "id": "h9ksxa1QaTKV"
      },
      "outputs": [],
      "source": []
    }
  ]
}